{
  "cells": [
    {
      "cell_type": "markdown",
      "metadata": {
        "id": "TdpPHz2Lp6VD"
      },
      "source": [
        "# TP Coding autoencoders and variational autoencoders in Pytorch\n",
        "\n",
        "\n",
        "Author : Alasdair Newson\n",
        "\n",
        "alasdair.newson@telecom-paris.fr\n",
        "\n",
        "## Objective:\n",
        "\n",
        "The goal of this TP is to explore autoencoders and variational autoencoders applied to a simple dataset. In this first part, we will look at an autoencoder applied to MNIST. We recall that an autoencoder is a neural network with the following general architecture:\n",
        "\n",
        "\n",
        "![AUTOENCODER](https://perso.telecom-paristech.fr/anewson/doc/images/autoencoder_illustration_2.png)\n",
        "\n",
        "The tensor $z$ in the middle of the network is called a __latent code__, and it belongs to the latent space. It is this latent space which is interesting in autoencoders (for image synthesis, editing, etc).\n",
        "\n",
        "### Your task:\n",
        "You need to add the missing parts in the code (parts between # --- START CODE HERE and # --- END CODE HERE or # FILL IN CODE)\n",
        "\n",
        "\n",
        "First of all, let's load some packages"
      ]
    },
    {
      "cell_type": "code",
      "execution_count": 97,
      "metadata": {
        "id": "JqNeIJ8Op8Ao"
      },
      "outputs": [],
      "source": [
        "import torch\n",
        "import torch.nn as nn\n",
        "import torch.nn.functional as F\n",
        "import torch.optim as optim\n",
        "from torchvision import datasets, transforms\n",
        "from torch.autograd import Variable\n",
        "from torchvision.utils import save_image\n",
        "\n",
        "import pdb\n",
        "import numpy as np\n",
        "import matplotlib.pyplot as plt\n",
        "\n",
        "def pytorch_to_numpy(x):\n",
        "  return x.detach().numpy()"
      ]
    },
    {
      "cell_type": "markdown",
      "metadata": {
        "id": "Hyj5dj_eui9D"
      },
      "source": [
        "First, we load the mnist dataset."
      ]
    },
    {
      "cell_type": "code",
      "execution_count": 98,
      "metadata": {
        "id": "4YPLKlPrufSk"
      },
      "outputs": [],
      "source": [
        "\n",
        "batch_size = 128\n",
        "\n",
        "# MNIST Dataset\n",
        "mnist_trainset = datasets.MNIST(root='./mnist_data/', train=True, transform=transforms.ToTensor(), download=True)\n",
        "mnist_testset = datasets.MNIST(root='./mnist_data/', train=False, transform=transforms.ToTensor(), download=False)\n",
        "\n",
        "#create data loader with smaller dataset size\n",
        "max_mnist_size = 1000\n",
        "mnist_trainset_reduced = torch.utils.data.random_split(mnist_trainset, [max_mnist_size, len(mnist_trainset)-max_mnist_size])[0] \n",
        "mnist_train_loader = torch.utils.data.DataLoader(mnist_trainset_reduced, batch_size=batch_size, shuffle=True,drop_last=True)\n",
        "\n",
        "# download test dataset\n",
        "max_mnist_size = 512\n",
        "mnist_testset_reduced = torch.utils.data.random_split(mnist_testset, [max_mnist_size, len(mnist_testset)-max_mnist_size])[0] \n",
        "mnist_test_loader = torch.utils.data.DataLoader(mnist_testset_reduced, batch_size=batch_size, shuffle=True,drop_last=True)\n"
      ]
    },
    {
      "cell_type": "code",
      "execution_count": 99,
      "metadata": {
        "id": "r7YhlBT2PN9I"
      },
      "outputs": [
        {
          "data": {
            "text/plain": [
              "torch.Size([60000, 28, 28])"
            ]
          },
          "execution_count": 99,
          "metadata": {},
          "output_type": "execute_result"
        }
      ],
      "source": [
        "mnist_trainset_reduced.dataset.train_data.shape"
      ]
    },
    {
      "cell_type": "markdown",
      "metadata": {
        "id": "t-bkK4ktwfvC"
      },
      "source": [
        "# 1 Vanilla Autoencoder\n",
        "\n",
        "Now, we define the general parameters of the autoencoder"
      ]
    },
    {
      "cell_type": "code",
      "execution_count": 100,
      "metadata": {
        "id": "mD56EDzbvUxq"
      },
      "outputs": [],
      "source": [
        "# autoencoder parameters\n",
        "n_rows = mnist_trainset_reduced.dataset.train_data.shape[1]\n",
        "n_cols = mnist_trainset_reduced.dataset.train_data.shape[2]\n",
        "n_channels = 1\n",
        "n_pixels = n_rows*n_cols\n",
        "\n",
        "img_shape = (n_rows, n_cols, n_channels)\n",
        "n_epochs = 150"
      ]
    },
    {
      "cell_type": "markdown",
      "metadata": {
        "id": "6jLa2-jQwxSI"
      },
      "source": [
        "Now, define the autoencoder architecture. In the first part, we will use the following MLP architecture :\n",
        "\n",
        "Encoder :\n",
        "- Flatten input\n",
        "- Dense layer, output size h_dim_1 + ReLU\n",
        "- Dense layer, output size h_dim_2 + ReLU\n",
        "- Dense layer, output size z_dim (no non-linearity)\n",
        "\n",
        "Decoder :\n",
        "- Dense layer, output size h_dim_2 + ReLU\n",
        "- Dense layer, output size h_dim_1 + ReLU\n",
        "- Dense layer, output size x_dim + Sigmoid Activation\n",
        "- Reshape, to size $28\\times 28\\times 1$\n",
        "\n",
        "For the Reshape operation, use the ```A.view(dim_1,dim_2,...)``` function, where ```A``` is your tensor."
      ]
    },
    {
      "cell_type": "code",
      "execution_count": 101,
      "metadata": {
        "id": "tEuZfnUlXxMl"
      },
      "outputs": [],
      "source": [
        "class AE(torch.nn.Module ):\n",
        "  def __init__(self, x_dim, h_dim1, h_dim2, z_dim,n_rows,n_cols,n_channels):\n",
        "    super(AE, self).__init__()\n",
        "\n",
        "    self.n_rows = n_rows\n",
        "    self.n_cols = n_cols\n",
        "    self.n_channels = n_channels\n",
        "    self.n_pixels = (self.n_rows)*(self.n_cols)\n",
        "    self.z_dim = z_dim\n",
        "\n",
        "    # encoder part\n",
        "    self.fc1 = nn.Linear(x_dim, h_dim1)\n",
        "    self.fc2 = nn.Linear(h_dim1, h_dim2)\n",
        "    self.fc3 = nn.Linear(h_dim2, z_dim)\n",
        "    # decoder part\n",
        "    self.fc4 = nn.Linear(z_dim, h_dim2)\n",
        "    self.fc5 = nn.Linear(h_dim2, h_dim1)\n",
        "    self.fc6 = nn.Linear(h_dim1, x_dim)\n",
        "\n",
        "  def encoder(self, x):\n",
        "    h = F.relu(self.fc1(x))\n",
        "    h = F.relu(self.fc2(h))\n",
        "    return self.fc3(h)\n",
        "  def decoder(self, z):\n",
        "    h = F.relu(self.fc4(z))\n",
        "    h = F.relu(self.fc5(h))\n",
        "    return F.sigmoid(self.fc6(h))\n",
        "  def forward(self, x):\n",
        "    y = self.decoder(self.encoder(x.view(-1, self.n_pixels))).view(-1, self.n_channels, self.n_rows, self.n_cols)\n",
        "    return(y)\n",
        "  def loss_function(self,x, y):\n",
        "    bce_loss = F.binary_cross_entropy(y, x, reduction='none')\n",
        "    return torch.mean(bce_loss)"
      ]
    },
    {
      "cell_type": "code",
      "execution_count": 102,
      "metadata": {
        "id": "oV40vRMQRoG1"
      },
      "outputs": [],
      "source": [
        "# create model\n",
        "ae_dim_1 = 512\n",
        "ae_dim_2 = 256\n",
        "z_dim = 10\n",
        "ae_model = AE(x_dim=n_pixels, h_dim1= ae_dim_1, h_dim2=ae_dim_2, z_dim=z_dim,n_rows=n_rows,n_cols=n_cols,n_channels=n_channels)\n",
        "ae_optimizer = optim.Adam(ae_model.parameters())"
      ]
    },
    {
      "cell_type": "markdown",
      "metadata": {
        "id": "-659aM36xvXX"
      },
      "source": [
        "Now, define a generic function to train the model for one epoch"
      ]
    },
    {
      "cell_type": "code",
      "execution_count": 103,
      "metadata": {
        "id": "wfqX6Brlxjyi"
      },
      "outputs": [],
      "source": [
        "def train_ae(ae_model,data_train_loader,epoch):\n",
        "\ttrain_loss = 0\n",
        "\tfor batch_idx, (data, _) in enumerate(data_train_loader):\n",
        "\t\tae_optimizer.zero_grad()\n",
        "\t\t\n",
        "\t\ty = ae_model(data)\n",
        "\t\tloss_ae = ae_model.loss_function(data, y)\n",
        "  \n",
        "\t\tloss_ae.backward()\n",
        "\t\ttrain_loss += loss_ae.item()\n",
        "\t\tae_optimizer.step()\n",
        "\t\t\n",
        "\t\tif batch_idx % 100 == 0:\n",
        "\t\t\tprint('Train Epoch: {} [{}/{} ({:.0f}%)]\\tLoss: {:.6f}'.format(\n",
        "\t\t\t\tepoch, batch_idx * len(data), len(data_train_loader.dataset),\n",
        "\t\t\t\t100. * batch_idx / len(data_train_loader), loss_ae.item() / len(data)))\n",
        "\tprint('====> Epoch: {} Average loss: {:.4f}'.format(epoch, train_loss / len(data_train_loader.dataset)))\n"
      ]
    },
    {
      "cell_type": "markdown",
      "metadata": {
        "id": "w3EbmswSzJdK"
      },
      "source": [
        "We define a function to carry out testing on the autoencoder model"
      ]
    },
    {
      "cell_type": "code",
      "execution_count": 104,
      "metadata": {
        "id": "11q_0PSibZk-"
      },
      "outputs": [
        {
          "name": "stdout",
          "output_type": "stream",
          "text": [
            "Train Epoch: 0 [0/1000 (0%)]\tLoss: 0.005423\n",
            "====> Epoch: 0 Average loss: 0.0044\n",
            "Train Epoch: 1 [0/1000 (0%)]\tLoss: 0.003205\n",
            "====> Epoch: 1 Average loss: 0.0025\n",
            "Train Epoch: 2 [0/1000 (0%)]\tLoss: 0.002253\n",
            "====> Epoch: 2 Average loss: 0.0021\n",
            "Train Epoch: 3 [0/1000 (0%)]\tLoss: 0.002238\n",
            "====> Epoch: 3 Average loss: 0.0019\n",
            "Train Epoch: 4 [0/1000 (0%)]\tLoss: 0.002116\n",
            "====> Epoch: 4 Average loss: 0.0019\n",
            "Train Epoch: 5 [0/1000 (0%)]\tLoss: 0.002071\n",
            "====> Epoch: 5 Average loss: 0.0019\n",
            "Train Epoch: 6 [0/1000 (0%)]\tLoss: 0.002021\n",
            "====> Epoch: 6 Average loss: 0.0018\n",
            "Train Epoch: 7 [0/1000 (0%)]\tLoss: 0.002023\n",
            "====> Epoch: 7 Average loss: 0.0018\n",
            "Train Epoch: 8 [0/1000 (0%)]\tLoss: 0.002049\n",
            "====> Epoch: 8 Average loss: 0.0018\n",
            "Train Epoch: 9 [0/1000 (0%)]\tLoss: 0.001985\n",
            "====> Epoch: 9 Average loss: 0.0018\n",
            "Train Epoch: 10 [0/1000 (0%)]\tLoss: 0.001966\n",
            "====> Epoch: 10 Average loss: 0.0018\n",
            "Train Epoch: 11 [0/1000 (0%)]\tLoss: 0.002038\n",
            "====> Epoch: 11 Average loss: 0.0017\n",
            "Train Epoch: 12 [0/1000 (0%)]\tLoss: 0.001867\n",
            "====> Epoch: 12 Average loss: 0.0017\n",
            "Train Epoch: 13 [0/1000 (0%)]\tLoss: 0.001868\n",
            "====> Epoch: 13 Average loss: 0.0017\n",
            "Train Epoch: 14 [0/1000 (0%)]\tLoss: 0.001908\n",
            "====> Epoch: 14 Average loss: 0.0016\n",
            "Train Epoch: 15 [0/1000 (0%)]\tLoss: 0.001790\n",
            "====> Epoch: 15 Average loss: 0.0016\n",
            "Train Epoch: 16 [0/1000 (0%)]\tLoss: 0.001741\n",
            "====> Epoch: 16 Average loss: 0.0016\n",
            "Train Epoch: 17 [0/1000 (0%)]\tLoss: 0.001759\n",
            "====> Epoch: 17 Average loss: 0.0015\n",
            "Train Epoch: 18 [0/1000 (0%)]\tLoss: 0.001700\n",
            "====> Epoch: 18 Average loss: 0.0015\n",
            "Train Epoch: 19 [0/1000 (0%)]\tLoss: 0.001638\n",
            "====> Epoch: 19 Average loss: 0.0015\n",
            "Train Epoch: 20 [0/1000 (0%)]\tLoss: 0.001522\n",
            "====> Epoch: 20 Average loss: 0.0014\n",
            "Train Epoch: 21 [0/1000 (0%)]\tLoss: 0.001554\n",
            "====> Epoch: 21 Average loss: 0.0014\n",
            "Train Epoch: 22 [0/1000 (0%)]\tLoss: 0.001559\n",
            "====> Epoch: 22 Average loss: 0.0014\n",
            "Train Epoch: 23 [0/1000 (0%)]\tLoss: 0.001493\n",
            "====> Epoch: 23 Average loss: 0.0013\n",
            "Train Epoch: 24 [0/1000 (0%)]\tLoss: 0.001443\n",
            "====> Epoch: 24 Average loss: 0.0013\n",
            "Train Epoch: 25 [0/1000 (0%)]\tLoss: 0.001377\n",
            "====> Epoch: 25 Average loss: 0.0013\n",
            "Train Epoch: 26 [0/1000 (0%)]\tLoss: 0.001373\n",
            "====> Epoch: 26 Average loss: 0.0012\n",
            "Train Epoch: 27 [0/1000 (0%)]\tLoss: 0.001362\n",
            "====> Epoch: 27 Average loss: 0.0012\n",
            "Train Epoch: 28 [0/1000 (0%)]\tLoss: 0.001359\n",
            "====> Epoch: 28 Average loss: 0.0012\n",
            "Train Epoch: 29 [0/1000 (0%)]\tLoss: 0.001254\n",
            "====> Epoch: 29 Average loss: 0.0012\n",
            "Train Epoch: 30 [0/1000 (0%)]\tLoss: 0.001300\n",
            "====> Epoch: 30 Average loss: 0.0011\n",
            "Train Epoch: 31 [0/1000 (0%)]\tLoss: 0.001218\n",
            "====> Epoch: 31 Average loss: 0.0011\n",
            "Train Epoch: 32 [0/1000 (0%)]\tLoss: 0.001270\n",
            "====> Epoch: 32 Average loss: 0.0011\n",
            "Train Epoch: 33 [0/1000 (0%)]\tLoss: 0.001220\n",
            "====> Epoch: 33 Average loss: 0.0011\n",
            "Train Epoch: 34 [0/1000 (0%)]\tLoss: 0.001202\n",
            "====> Epoch: 34 Average loss: 0.0011\n",
            "Train Epoch: 35 [0/1000 (0%)]\tLoss: 0.001172\n",
            "====> Epoch: 35 Average loss: 0.0011\n",
            "Train Epoch: 36 [0/1000 (0%)]\tLoss: 0.001115\n",
            "====> Epoch: 36 Average loss: 0.0010\n",
            "Train Epoch: 37 [0/1000 (0%)]\tLoss: 0.001123\n",
            "====> Epoch: 37 Average loss: 0.0010\n",
            "Train Epoch: 38 [0/1000 (0%)]\tLoss: 0.001163\n",
            "====> Epoch: 38 Average loss: 0.0010\n",
            "Train Epoch: 39 [0/1000 (0%)]\tLoss: 0.001113\n",
            "====> Epoch: 39 Average loss: 0.0010\n",
            "Train Epoch: 40 [0/1000 (0%)]\tLoss: 0.001096\n",
            "====> Epoch: 40 Average loss: 0.0010\n",
            "Train Epoch: 41 [0/1000 (0%)]\tLoss: 0.001076\n",
            "====> Epoch: 41 Average loss: 0.0010\n",
            "Train Epoch: 42 [0/1000 (0%)]\tLoss: 0.001075\n",
            "====> Epoch: 42 Average loss: 0.0010\n",
            "Train Epoch: 43 [0/1000 (0%)]\tLoss: 0.001078\n",
            "====> Epoch: 43 Average loss: 0.0010\n",
            "Train Epoch: 44 [0/1000 (0%)]\tLoss: 0.001050\n",
            "====> Epoch: 44 Average loss: 0.0010\n",
            "Train Epoch: 45 [0/1000 (0%)]\tLoss: 0.001104\n",
            "====> Epoch: 45 Average loss: 0.0010\n",
            "Train Epoch: 46 [0/1000 (0%)]\tLoss: 0.001013\n",
            "====> Epoch: 46 Average loss: 0.0010\n",
            "Train Epoch: 47 [0/1000 (0%)]\tLoss: 0.001114\n",
            "====> Epoch: 47 Average loss: 0.0010\n",
            "Train Epoch: 48 [0/1000 (0%)]\tLoss: 0.001028\n",
            "====> Epoch: 48 Average loss: 0.0009\n",
            "Train Epoch: 49 [0/1000 (0%)]\tLoss: 0.001028\n",
            "====> Epoch: 49 Average loss: 0.0009\n",
            "Train Epoch: 50 [0/1000 (0%)]\tLoss: 0.001079\n",
            "====> Epoch: 50 Average loss: 0.0009\n",
            "Train Epoch: 51 [0/1000 (0%)]\tLoss: 0.001074\n",
            "====> Epoch: 51 Average loss: 0.0009\n",
            "Train Epoch: 52 [0/1000 (0%)]\tLoss: 0.001077\n",
            "====> Epoch: 52 Average loss: 0.0009\n",
            "Train Epoch: 53 [0/1000 (0%)]\tLoss: 0.001083\n",
            "====> Epoch: 53 Average loss: 0.0009\n",
            "Train Epoch: 54 [0/1000 (0%)]\tLoss: 0.001039\n",
            "====> Epoch: 54 Average loss: 0.0009\n",
            "Train Epoch: 55 [0/1000 (0%)]\tLoss: 0.001014\n",
            "====> Epoch: 55 Average loss: 0.0009\n",
            "Train Epoch: 56 [0/1000 (0%)]\tLoss: 0.000988\n",
            "====> Epoch: 56 Average loss: 0.0009\n",
            "Train Epoch: 57 [0/1000 (0%)]\tLoss: 0.000951\n",
            "====> Epoch: 57 Average loss: 0.0009\n",
            "Train Epoch: 58 [0/1000 (0%)]\tLoss: 0.000946\n",
            "====> Epoch: 58 Average loss: 0.0009\n",
            "Train Epoch: 59 [0/1000 (0%)]\tLoss: 0.001004\n",
            "====> Epoch: 59 Average loss: 0.0009\n",
            "Train Epoch: 60 [0/1000 (0%)]\tLoss: 0.001001\n",
            "====> Epoch: 60 Average loss: 0.0009\n",
            "Train Epoch: 61 [0/1000 (0%)]\tLoss: 0.000969\n",
            "====> Epoch: 61 Average loss: 0.0009\n",
            "Train Epoch: 62 [0/1000 (0%)]\tLoss: 0.000940\n",
            "====> Epoch: 62 Average loss: 0.0009\n",
            "Train Epoch: 63 [0/1000 (0%)]\tLoss: 0.000937\n",
            "====> Epoch: 63 Average loss: 0.0009\n",
            "Train Epoch: 64 [0/1000 (0%)]\tLoss: 0.000921\n",
            "====> Epoch: 64 Average loss: 0.0008\n",
            "Train Epoch: 65 [0/1000 (0%)]\tLoss: 0.000953\n",
            "====> Epoch: 65 Average loss: 0.0008\n",
            "Train Epoch: 66 [0/1000 (0%)]\tLoss: 0.000943\n",
            "====> Epoch: 66 Average loss: 0.0008\n",
            "Train Epoch: 67 [0/1000 (0%)]\tLoss: 0.000922\n",
            "====> Epoch: 67 Average loss: 0.0008\n",
            "Train Epoch: 68 [0/1000 (0%)]\tLoss: 0.000947\n",
            "====> Epoch: 68 Average loss: 0.0008\n",
            "Train Epoch: 69 [0/1000 (0%)]\tLoss: 0.000884\n",
            "====> Epoch: 69 Average loss: 0.0008\n",
            "Train Epoch: 70 [0/1000 (0%)]\tLoss: 0.000942\n",
            "====> Epoch: 70 Average loss: 0.0008\n",
            "Train Epoch: 71 [0/1000 (0%)]\tLoss: 0.000962\n",
            "====> Epoch: 71 Average loss: 0.0008\n",
            "Train Epoch: 72 [0/1000 (0%)]\tLoss: 0.000909\n",
            "====> Epoch: 72 Average loss: 0.0008\n",
            "Train Epoch: 73 [0/1000 (0%)]\tLoss: 0.000903\n",
            "====> Epoch: 73 Average loss: 0.0008\n",
            "Train Epoch: 74 [0/1000 (0%)]\tLoss: 0.000914\n",
            "====> Epoch: 74 Average loss: 0.0008\n",
            "Train Epoch: 75 [0/1000 (0%)]\tLoss: 0.000897\n",
            "====> Epoch: 75 Average loss: 0.0008\n",
            "Train Epoch: 76 [0/1000 (0%)]\tLoss: 0.000878\n",
            "====> Epoch: 76 Average loss: 0.0008\n",
            "Train Epoch: 77 [0/1000 (0%)]\tLoss: 0.000859\n",
            "====> Epoch: 77 Average loss: 0.0008\n",
            "Train Epoch: 78 [0/1000 (0%)]\tLoss: 0.000896\n",
            "====> Epoch: 78 Average loss: 0.0008\n",
            "Train Epoch: 79 [0/1000 (0%)]\tLoss: 0.000908\n",
            "====> Epoch: 79 Average loss: 0.0008\n",
            "Train Epoch: 80 [0/1000 (0%)]\tLoss: 0.000869\n",
            "====> Epoch: 80 Average loss: 0.0008\n",
            "Train Epoch: 81 [0/1000 (0%)]\tLoss: 0.000876\n",
            "====> Epoch: 81 Average loss: 0.0008\n",
            "Train Epoch: 82 [0/1000 (0%)]\tLoss: 0.000870\n",
            "====> Epoch: 82 Average loss: 0.0008\n",
            "Train Epoch: 83 [0/1000 (0%)]\tLoss: 0.000851\n",
            "====> Epoch: 83 Average loss: 0.0008\n",
            "Train Epoch: 84 [0/1000 (0%)]\tLoss: 0.000834\n",
            "====> Epoch: 84 Average loss: 0.0008\n",
            "Train Epoch: 85 [0/1000 (0%)]\tLoss: 0.000852\n",
            "====> Epoch: 85 Average loss: 0.0008\n",
            "Train Epoch: 86 [0/1000 (0%)]\tLoss: 0.000853\n",
            "====> Epoch: 86 Average loss: 0.0008\n",
            "Train Epoch: 87 [0/1000 (0%)]\tLoss: 0.000876\n",
            "====> Epoch: 87 Average loss: 0.0008\n",
            "Train Epoch: 88 [0/1000 (0%)]\tLoss: 0.000861\n",
            "====> Epoch: 88 Average loss: 0.0007\n",
            "Train Epoch: 89 [0/1000 (0%)]\tLoss: 0.000835\n",
            "====> Epoch: 89 Average loss: 0.0007\n",
            "Train Epoch: 90 [0/1000 (0%)]\tLoss: 0.000835\n",
            "====> Epoch: 90 Average loss: 0.0007\n",
            "Train Epoch: 91 [0/1000 (0%)]\tLoss: 0.000831\n",
            "====> Epoch: 91 Average loss: 0.0007\n",
            "Train Epoch: 92 [0/1000 (0%)]\tLoss: 0.000792\n",
            "====> Epoch: 92 Average loss: 0.0007\n",
            "Train Epoch: 93 [0/1000 (0%)]\tLoss: 0.000813\n",
            "====> Epoch: 93 Average loss: 0.0007\n",
            "Train Epoch: 94 [0/1000 (0%)]\tLoss: 0.000824\n",
            "====> Epoch: 94 Average loss: 0.0007\n",
            "Train Epoch: 95 [0/1000 (0%)]\tLoss: 0.000808\n",
            "====> Epoch: 95 Average loss: 0.0007\n",
            "Train Epoch: 96 [0/1000 (0%)]\tLoss: 0.000785\n",
            "====> Epoch: 96 Average loss: 0.0007\n",
            "Train Epoch: 97 [0/1000 (0%)]\tLoss: 0.000810\n",
            "====> Epoch: 97 Average loss: 0.0007\n",
            "Train Epoch: 98 [0/1000 (0%)]\tLoss: 0.000821\n",
            "====> Epoch: 98 Average loss: 0.0007\n",
            "Train Epoch: 99 [0/1000 (0%)]\tLoss: 0.000789\n",
            "====> Epoch: 99 Average loss: 0.0007\n",
            "Train Epoch: 100 [0/1000 (0%)]\tLoss: 0.000764\n",
            "====> Epoch: 100 Average loss: 0.0007\n",
            "Train Epoch: 101 [0/1000 (0%)]\tLoss: 0.000807\n",
            "====> Epoch: 101 Average loss: 0.0007\n",
            "Train Epoch: 102 [0/1000 (0%)]\tLoss: 0.000812\n",
            "====> Epoch: 102 Average loss: 0.0007\n",
            "Train Epoch: 103 [0/1000 (0%)]\tLoss: 0.000756\n",
            "====> Epoch: 103 Average loss: 0.0007\n",
            "Train Epoch: 104 [0/1000 (0%)]\tLoss: 0.000767\n",
            "====> Epoch: 104 Average loss: 0.0007\n",
            "Train Epoch: 105 [0/1000 (0%)]\tLoss: 0.000750\n",
            "====> Epoch: 105 Average loss: 0.0007\n",
            "Train Epoch: 106 [0/1000 (0%)]\tLoss: 0.000764\n",
            "====> Epoch: 106 Average loss: 0.0007\n",
            "Train Epoch: 107 [0/1000 (0%)]\tLoss: 0.000765\n",
            "====> Epoch: 107 Average loss: 0.0007\n",
            "Train Epoch: 108 [0/1000 (0%)]\tLoss: 0.000776\n",
            "====> Epoch: 108 Average loss: 0.0007\n",
            "Train Epoch: 109 [0/1000 (0%)]\tLoss: 0.000785\n",
            "====> Epoch: 109 Average loss: 0.0007\n",
            "Train Epoch: 110 [0/1000 (0%)]\tLoss: 0.000778\n",
            "====> Epoch: 110 Average loss: 0.0007\n",
            "Train Epoch: 111 [0/1000 (0%)]\tLoss: 0.000757\n",
            "====> Epoch: 111 Average loss: 0.0007\n",
            "Train Epoch: 112 [0/1000 (0%)]\tLoss: 0.000751\n",
            "====> Epoch: 112 Average loss: 0.0007\n",
            "Train Epoch: 113 [0/1000 (0%)]\tLoss: 0.000739\n",
            "====> Epoch: 113 Average loss: 0.0007\n",
            "Train Epoch: 114 [0/1000 (0%)]\tLoss: 0.000742\n",
            "====> Epoch: 114 Average loss: 0.0007\n",
            "Train Epoch: 115 [0/1000 (0%)]\tLoss: 0.000728\n",
            "====> Epoch: 115 Average loss: 0.0007\n",
            "Train Epoch: 116 [0/1000 (0%)]\tLoss: 0.000749\n",
            "====> Epoch: 116 Average loss: 0.0007\n",
            "Train Epoch: 117 [0/1000 (0%)]\tLoss: 0.000738\n",
            "====> Epoch: 117 Average loss: 0.0007\n",
            "Train Epoch: 118 [0/1000 (0%)]\tLoss: 0.000746\n",
            "====> Epoch: 118 Average loss: 0.0007\n",
            "Train Epoch: 119 [0/1000 (0%)]\tLoss: 0.000744\n",
            "====> Epoch: 119 Average loss: 0.0007\n",
            "Train Epoch: 120 [0/1000 (0%)]\tLoss: 0.000709\n",
            "====> Epoch: 120 Average loss: 0.0007\n",
            "Train Epoch: 121 [0/1000 (0%)]\tLoss: 0.000722\n",
            "====> Epoch: 121 Average loss: 0.0007\n",
            "Train Epoch: 122 [0/1000 (0%)]\tLoss: 0.000739\n",
            "====> Epoch: 122 Average loss: 0.0007\n",
            "Train Epoch: 123 [0/1000 (0%)]\tLoss: 0.000725\n",
            "====> Epoch: 123 Average loss: 0.0007\n",
            "Train Epoch: 124 [0/1000 (0%)]\tLoss: 0.000723\n",
            "====> Epoch: 124 Average loss: 0.0007\n",
            "Train Epoch: 125 [0/1000 (0%)]\tLoss: 0.000746\n",
            "====> Epoch: 125 Average loss: 0.0006\n",
            "Train Epoch: 126 [0/1000 (0%)]\tLoss: 0.000703\n",
            "====> Epoch: 126 Average loss: 0.0006\n",
            "Train Epoch: 127 [0/1000 (0%)]\tLoss: 0.000719\n",
            "====> Epoch: 127 Average loss: 0.0006\n",
            "Train Epoch: 128 [0/1000 (0%)]\tLoss: 0.000711\n",
            "====> Epoch: 128 Average loss: 0.0006\n",
            "Train Epoch: 129 [0/1000 (0%)]\tLoss: 0.000730\n",
            "====> Epoch: 129 Average loss: 0.0006\n",
            "Train Epoch: 130 [0/1000 (0%)]\tLoss: 0.000712\n",
            "====> Epoch: 130 Average loss: 0.0006\n",
            "Train Epoch: 131 [0/1000 (0%)]\tLoss: 0.000701\n",
            "====> Epoch: 131 Average loss: 0.0006\n",
            "Train Epoch: 132 [0/1000 (0%)]\tLoss: 0.000716\n",
            "====> Epoch: 132 Average loss: 0.0006\n",
            "Train Epoch: 133 [0/1000 (0%)]\tLoss: 0.000686\n",
            "====> Epoch: 133 Average loss: 0.0006\n",
            "Train Epoch: 134 [0/1000 (0%)]\tLoss: 0.000694\n",
            "====> Epoch: 134 Average loss: 0.0006\n",
            "Train Epoch: 135 [0/1000 (0%)]\tLoss: 0.000691\n",
            "====> Epoch: 135 Average loss: 0.0006\n",
            "Train Epoch: 136 [0/1000 (0%)]\tLoss: 0.000717\n",
            "====> Epoch: 136 Average loss: 0.0006\n",
            "Train Epoch: 137 [0/1000 (0%)]\tLoss: 0.000730\n",
            "====> Epoch: 137 Average loss: 0.0006\n",
            "Train Epoch: 138 [0/1000 (0%)]\tLoss: 0.000709\n",
            "====> Epoch: 138 Average loss: 0.0006\n",
            "Train Epoch: 139 [0/1000 (0%)]\tLoss: 0.000711\n",
            "====> Epoch: 139 Average loss: 0.0006\n",
            "Train Epoch: 140 [0/1000 (0%)]\tLoss: 0.000647\n",
            "====> Epoch: 140 Average loss: 0.0006\n",
            "Train Epoch: 141 [0/1000 (0%)]\tLoss: 0.000715\n",
            "====> Epoch: 141 Average loss: 0.0006\n",
            "Train Epoch: 142 [0/1000 (0%)]\tLoss: 0.000672\n",
            "====> Epoch: 142 Average loss: 0.0006\n",
            "Train Epoch: 143 [0/1000 (0%)]\tLoss: 0.000669\n",
            "====> Epoch: 143 Average loss: 0.0006\n",
            "Train Epoch: 144 [0/1000 (0%)]\tLoss: 0.000695\n",
            "====> Epoch: 144 Average loss: 0.0006\n",
            "Train Epoch: 145 [0/1000 (0%)]\tLoss: 0.000683\n",
            "====> Epoch: 145 Average loss: 0.0006\n",
            "Train Epoch: 146 [0/1000 (0%)]\tLoss: 0.000705\n",
            "====> Epoch: 146 Average loss: 0.0006\n",
            "Train Epoch: 147 [0/1000 (0%)]\tLoss: 0.000654\n",
            "====> Epoch: 147 Average loss: 0.0006\n",
            "Train Epoch: 148 [0/1000 (0%)]\tLoss: 0.000674\n",
            "====> Epoch: 148 Average loss: 0.0006\n",
            "Train Epoch: 149 [0/1000 (0%)]\tLoss: 0.000696\n",
            "====> Epoch: 149 Average loss: 0.0006\n"
          ]
        }
      ],
      "source": [
        "for epoch in range(0, n_epochs):\n",
        "  train_ae(ae_model,mnist_train_loader,epoch)"
      ]
    },
    {
      "cell_type": "code",
      "execution_count": 105,
      "metadata": {
        "id": "T8jXjdRyzMy2"
      },
      "outputs": [],
      "source": [
        "def display_images(imgs):\n",
        "  \n",
        "  r = 1\n",
        "  c = imgs.shape[0]\n",
        "  fig, axs = plt.subplots(r, c)\n",
        "  for j in range(c):\n",
        "    #black and white images\n",
        "    axs[j].imshow(pytorch_to_numpy(imgs[j, 0,:,:]), cmap='gray')\n",
        "    axs[j].axis('off')\n",
        "  plt.show()\n",
        "\n",
        "def display_ae_images(ae_model, test_imgs):\n",
        "  n_images = 5\n",
        "  idx = np.random.randint(0, test_imgs.shape[0], n_images)\n",
        "  test_imgs = test_imgs[idx,:,:,:]\n",
        "  print(test_imgs.shape)\n",
        "\n",
        "  #get output images\n",
        "  output_imgs = pytorch_to_numpy(ae_model.forward( test_imgs ))\n",
        "  print(output_imgs.shape)\n",
        "  \n",
        "  r = 2\n",
        "  c = n_images\n",
        "  fig, axs = plt.subplots(r, c)\n",
        "  for j in range(c):\n",
        "    #black and white images\n",
        "    axs[0,j].imshow(test_imgs[j, 0,:,:], cmap='gray')\n",
        "    axs[0,j].axis('off')\n",
        "    axs[1,j].imshow(output_imgs[j, 0,:,:], cmap='gray')\n",
        "    axs[1,j].axis('off')\n",
        "  plt.show()"
      ]
    },
    {
      "cell_type": "code",
      "execution_count": 106,
      "metadata": {
        "id": "9pbXch29d68D"
      },
      "outputs": [
        {
          "name": "stdout",
          "output_type": "stream",
          "text": [
            "torch.Size([5, 1, 28, 28])\n",
            "(5, 1, 28, 28)\n"
          ]
        },
        {
          "data": {
            "image/png": "[encoded data removed]",
            "text/plain": [
              "<Figure size 640x480 with 10 Axes>"
            ]
          },
          "metadata": {},
          "output_type": "display_data"
        }
      ],
      "source": [
        "test_imgs = next(iter(mnist_train_loader))[0]\n",
        "display_ae_images(ae_model, test_imgs)"
      ]
    },
    {
      "cell_type": "markdown",
      "metadata": {
        "id": "assPaJqB5sa-"
      },
      "source": [
        "__Question__ Are you satisfied with the results, do they look good ?"
      ]
    },
    {
      "attachments": {},
      "cell_type": "markdown",
      "metadata": {
        "id": "Q7uoWa4O5x8R"
      },
      "source": [
        "__Answer__\n",
        "Result are goods, there are a little bit of noise but it's not too muche. We can read the numbers easily, even if there is a little blur around the numbers."
      ]
    },
    {
      "cell_type": "markdown",
      "metadata": {
        "id": "zO9ATQEiyr3b"
      },
      "source": [
        "## 2/ Two simple generative models\n",
        "\n",
        "In this section, we consider two naïve approaches to creating generative models. The general idea is the following:\n",
        "\n",
        "- train an autoencoder\n",
        "- estimate different statistics (average, variance) of the data in the latent space\n",
        "- using these statistics, define a model based on a Gaussian distribution\n",
        "- generate data with this distribution\n",
        "\n",
        "We will consider these two situations :\n",
        "\n",
        "- a multivariate Gaussian distribution with __diagonal covariance matrix__ (each latent component is an independent random variable). This requires the average and variance in each latent component\n",
        "- a multivariate Gaussian distribution with __non-diagonal covariance matrix__. This requires the average and covariance matrix of the latent components\n",
        "\n",
        "Obviously, since this is done _a posteriori_ after training the autoencoder, there is nothing which guarantees that the latent codes do indeed follow a Gaussian distribution. Our goal will be to verify that Variational Autoencoders indeed produce better results than such naïve approaches."
      ]
    },
    {
      "cell_type": "markdown",
      "metadata": {
        "id": "x2M1-BRmf56d"
      },
      "source": [
        "## 2.0 Defining and generating random Gaussian latent codes\n",
        "\n",
        "Let $z$ be a latent code and $d$ the dimension of the latent space (called ``z_dim`` in the code). We suppose that the $z$'s follow a multivariate Gaussian distribution, written as:\n",
        "\n",
        "\\begin{equation}\n",
        "z \\sim \\mathcal{N}\\left(\n",
        "\\mu,\n",
        "\\bf{C}\n",
        "\\right),\n",
        "\\end{equation}\n",
        "where $\\mu$ and $\\bf{C}$ are the average vector and covariance matrix of the Gaussian distribution. To define such a generative model, we must therefore determine $\\mu$ and $\\bf{C}$. Once this is done, we can generate a random Gaussian latent code in the following manner:\n",
        "\n",
        "\\begin{equation}\n",
        "z = \\mu + {\\bf{L}} \\varepsilon,\n",
        "\\end{equation}\n",
        "where $\\varepsilon$ is a random vector drawn from a multivariate normal distribution ($\\mu=0$ and ${\\bf{C}} = \\text{Id}$), and $\\bf{L}$ is the Cholesky decomposition of the positive semi-definite covariance matrix. In other words:\n",
        "\n",
        "\\begin{equation}\n",
        "{\\bf{C}} = {\\bf{L}}{\\bf{L}^T}.\n",
        "\\end{equation}\n",
        "\n",
        "This gives a simple method of producing a multivariate Gaussian random variable."
      ]
    },
    {
      "cell_type": "markdown",
      "metadata": {
        "id": "NWpucm972i7j"
      },
      "source": [
        "## 2.1/ A Gaussian model with diagonal covariance\n",
        "\n",
        "The first naïve model is  defined in this first case as:\n",
        "\n",
        "- $\\bf{\\mu}=\\left[\\mu_0, \\mu_1, \\cdots, \\mu_{d-1}\\right]^T$\n",
        "- $\n",
        "  \\bf{C} = \\begin{pmatrix}\n",
        "\\sigma_0^2 & 0 & \\cdots & 0 \\\\\n",
        "0 & \\sigma_1^2 & \\cdots & 0 \\\\\n",
        "\\vdots & \\ddots & \\ddots & \\vdots \\\\\n",
        "0 & 0 & \\cdots & \\sigma_{d-1}^2\n",
        "\\end{pmatrix}$\n",
        "\n",
        "In this situation, therefore, the matrix $\\bf{L}$ can be calculated quite simply, as:\n",
        "- $\n",
        "  \\bf{L} = \\begin{pmatrix}\n",
        "\\sigma_0 & 0 & \\cdots & 0 \\\\\n",
        "0 & \\sigma_1 & \\cdots & 0 \\\\\n",
        "\\vdots & \\ddots & \\ddots & \\vdots \\\\\n",
        "0 & 0 & \\cdots & \\sigma_{d-1}\n",
        "\\end{pmatrix}$\n",
        "\n",
        "In the next cell, calculate the empirical average and variances over a certain number of batches:"
      ]
    },
    {
      "cell_type": "code",
      "execution_count": 107,
      "metadata": {
        "id": "sUXHCtvW2iQ0"
      },
      "outputs": [
        {
          "name": "stdout",
          "output_type": "stream",
          "text": [
            "Average of latent codes: tensor([ 4.0257,  1.2827,  6.1578, -6.2247, -7.8053,  1.9148,  6.3985, -1.9065,\n",
            "        -6.5021,  9.2888], grad_fn=<MeanBackward1>)\n",
            "Standard deviation of latent codes: tensor([4.9695, 6.1638, 7.8719, 8.1501, 8.4514, 6.5906, 5.9828, 5.2441, 6.6548,\n",
            "        7.3988], grad_fn=<MeanBackward1>)\n"
          ]
        }
      ],
      "source": [
        "n_batches = np.floor( len(mnist_train_loader.dataset.indices)/batch_size ).astype(int)\n",
        "\n",
        "z_average = torch.zeros(n_batches,ae_model.z_dim)\n",
        "z_sigma = torch.zeros(n_batches,ae_model.z_dim)\n",
        "\n",
        "for batch_idx, (data, _) in enumerate(mnist_train_loader):\n",
        "  z = ae_model.encoder(data.view(-1, n_pixels))\n",
        "  z_average[batch_idx,:] = torch.mean(z,dim=0)\n",
        "  z_sigma[batch_idx,:] = torch.std(z,dim=0)\n",
        "\n",
        "z_average = torch.mean(z_average,dim=0)\n",
        "z_sigma = torch.mean(z_sigma,dim=0)\n",
        "\n",
        "print(\"Average of latent codes:\",z_average)\n",
        "print(\"Standard deviation of latent codes:\",z_sigma)"
      ]
    },
    {
      "cell_type": "markdown",
      "metadata": {
        "id": "Lrpc62ML9K4l"
      },
      "source": [
        "Now, in the next cell generate data with this simple generative model using the approach described above. Display these images with the ``display_images`` function. \n",
        "\n",
        "__NB__ You do not actually have to define the matrix $\\bf{L}$ in this case, an element-wise multiplication of two (properly chosen) vectors will suffice. To generate multivariate normal random variables you can use the following Pytorch function:\n",
        "\n",
        "- ```torch.randn```\n"
      ]
    },
    {
      "cell_type": "code",
      "execution_count": 108,
      "metadata": {
        "id": "1_Tekii-9QEo"
      },
      "outputs": [
        {
          "data": {
            "image/png": "[encoded data removed]",
            "text/plain": [
              "<Figure size 640x480 with 5 Axes>"
            ]
          },
          "metadata": {},
          "output_type": "display_data"
        }
      ],
      "source": [
        "def generate_images_diagonal_gaussian(ae_model,z_average,z_sigma,n_images = 5):\n",
        "\n",
        "  epsilon = torch.randn(n_images,ae_model.z_dim)\n",
        "  z_generated = z_average + z_sigma*epsilon\n",
        "  imgs_generated = ae_model.decoder(z_generated)\n",
        "  return(imgs_generated)\n",
        "\n",
        "imgs_generated = generate_images_diagonal_gaussian(ae_model,z_average,z_sigma,n_images=5).view(-1, n_channels, n_rows, n_cols)\n",
        "display_images(imgs_generated)"
      ]
    },
    {
      "cell_type": "markdown",
      "metadata": {
        "id": "xiNaEgLIloeA"
      },
      "source": [
        "As you should be able to see, these results are not that good. Let's try a slightly more sophisticated model."
      ]
    },
    {
      "cell_type": "markdown",
      "metadata": {
        "id": "WjVPfkRKYMSh"
      },
      "source": [
        "## 2.1 Non-diagonal Gaussian model\n",
        "\n",
        "The second model uses a non-diagonal covariance matrix $\\bf{C}$ in the multivariate Gaussian distribution. In the next cell, calculate the average and covariance matrix over several batches of latent codes.\n",
        "\n",
        "__NB__ You can use the ```torch.cov``` function. Make sure to put the data in the right format for this (see documentation : https://pytorch.org/docs/stable/generated/torch.cov.html)."
      ]
    },
    {
      "cell_type": "code",
      "execution_count": 109,
      "metadata": {
        "id": "ArXgre39CD2H"
      },
      "outputs": [
        {
          "name": "stdout",
          "output_type": "stream",
          "text": [
            "Average of latent codes: tensor([ 4.1949,  1.0738,  6.2383, -6.2620, -7.6172,  1.7319,  6.2529, -1.7081,\n",
            "        -6.5497,  9.4619], grad_fn=<MeanBackward1>)\n",
            "Covariance matrix of latent codes: tensor([[ 25.2847,  -1.7638,  -8.4335, -10.4150,  -4.6309,  -8.6680, -16.9055,\n",
            "           4.7981,   5.3284,   8.2728],\n",
            "        [ -1.7638,  37.2550,   5.0753,   3.6254,  19.8969, -10.1433,   1.7745,\n",
            "          -8.5860,  24.4427,  -4.9636],\n",
            "        [ -8.4335,   5.0753,  62.4726,  -3.4962,  15.4091,  -5.2890,  17.2845,\n",
            "           1.0284, -12.6979,  -3.2383],\n",
            "        [-10.4150,   3.6254,  -3.4962,  65.2220,  17.8651, -13.2255,   6.6416,\n",
            "          -8.2029,   6.3740,   9.3061],\n",
            "        [ -4.6309,  19.8969,  15.4091,  17.8651,  71.4377, -22.3549,   7.6000,\n",
            "          -3.7168,  18.1615, -18.0495],\n",
            "        [ -8.6680, -10.1433,  -5.2890, -13.2255, -22.3549,  43.0939,   2.7263,\n",
            "          -5.8871, -24.8072,   5.0120],\n",
            "        [-16.9055,   1.7745,  17.2845,   6.6416,   7.6000,   2.7263,  36.6148,\n",
            "          -6.7739,  -6.4682, -21.6379],\n",
            "        [  4.7981,  -8.5860,   1.0284,  -8.2029,  -3.7168,  -5.8871,  -6.7739,\n",
            "          27.6119,  -7.6728,  -1.0033],\n",
            "        [  5.3284,  24.4427, -12.6979,   6.3740,  18.1615, -24.8072,  -6.4682,\n",
            "          -7.6728,  43.8491,  -8.9630],\n",
            "        [  8.2728,  -4.9636,  -3.2383,   9.3061, -18.0495,   5.0120, -21.6379,\n",
            "          -1.0033,  -8.9630,  55.0559]], grad_fn=<MeanBackward1>)\n"
          ]
        }
      ],
      "source": [
        "n_batches = np.floor( len(mnist_train_loader.dataset.indices)/batch_size ).astype(int)\n",
        "\n",
        "z_average = torch.zeros(n_batches,ae_model.z_dim)\n",
        "z_covariance = torch.zeros(n_batches,ae_model.z_dim,ae_model.z_dim)\n",
        "\n",
        "for batch_idx, (data, _) in enumerate(mnist_train_loader):\n",
        "  z = ae_model.encoder(data.view(-1, n_pixels))\n",
        "  z_average[batch_idx,:] = torch.mean(z,dim=0)\n",
        "  z_covariance[batch_idx,:,:] = torch.cov(z.view(-1,ae_model.z_dim).t())\n",
        "\n",
        "z_average = torch.mean(z_average,dim=0)\n",
        "z_covariance = torch.mean(z_covariance,dim=0)\n",
        "\n",
        "print(\"Average of latent codes:\",z_average)\n",
        "print(\"Covariance matrix of latent codes:\",z_covariance)"
      ]
    },
    {
      "cell_type": "markdown",
      "metadata": {
        "id": "JhXU8cnTZ0E8"
      },
      "source": [
        "Now, generate some samples with this distribution. In this case, you will actually have to calculate the Cholesky decomposition and find $\\bf{L}$. For this, you can use \n",
        "\n",
        "- ```torch.linalg.cholesky```\n",
        "\n",
        "In this model, you will need to carry out matrix multiplication over a batch of latent codes, which is a bit more complicated than the previous naïve model (which used element-wise vector multiplication). So you have two options:\n",
        "\n",
        "- copy the matrix $\\bf{L}$ several times and carry out batch matrix multiplication\n",
        "- simply loop and carry out normal matrix multiplication to produce each image (this has the disadvantage of not taking advantage of any parallelisation, but it should not matter too much).\n",
        "\n",
        "In the first case, you can use the following functions:\n",
        "\n",
        "- ```torch.bmm```\n",
        "- ```torch.tile```\n",
        "\n",
        "Fill in the function to generate images using this model now:"
      ]
    },
    {
      "cell_type": "code",
      "execution_count": 110,
      "metadata": {
        "id": "zXGlJTZ7Z4ed"
      },
      "outputs": [
        {
          "data": {
            "image/png": "[encoded data removed]",
            "text/plain": [
              "<Figure size 640x480 with 5 Axes>"
            ]
          },
          "metadata": {},
          "output_type": "display_data"
        }
      ],
      "source": [
        "def generate_images_non_diagonal_gaussian(ae_model,z_average,z_covariance,n_images = 5):\n",
        "\n",
        "  #calcualte Cholesky decomposition of covariance matrix : C = L L^T\n",
        "  # Make sure that the first dimension is the batch dimension (with batch size n_images)\n",
        "  # You can use the torch.unsqueeze function for this\n",
        "  L = torch.linalg.cholesky(z_covariance)\n",
        "\n",
        "  epsilon = torch.randn(n_images,ae_model.z_dim)\n",
        "  z_generated = z_average + torch.matmul(epsilon,L)\n",
        "  imgs_generated = ae_model.decoder(z_generated)\n",
        "  return(imgs_generated)\n",
        "\n",
        "\n",
        "imgs_generated = generate_images_non_diagonal_gaussian(ae_model,z_average,z_covariance,n_images = 5).view(-1, n_channels, n_rows, n_cols)\n",
        "display_images(imgs_generated)"
      ]
    },
    {
      "cell_type": "markdown",
      "metadata": {
        "id": "qLtsdri6zKEm"
      },
      "source": [
        "You should see some improvement, but we can do better than this. Thus, we turn to the variational autoencoder."
      ]
    },
    {
      "cell_type": "markdown",
      "metadata": {
        "id": "8UqeNhuSdnDt"
      },
      "source": [
        "# 3/ Variational autoencoder\n",
        "\n",
        "Now, we are going to create an variational autoencoder to carry out __image generation__. Let's first recall the idea of a variational autoencoder\n",
        "\n",
        "## Main idea\n",
        "\n",
        "The main idea is to create an autoencoder whose latent codes follow a certain distribution (a Gaussian distribution in practice). This is done with two tools : \n",
        "\n",
        "- A specific architecture, where the encoder produces the average and variance of the latent codes\n",
        "- A specially designed loss function\n",
        "\n",
        "Once the VAE is trained, it is possible to sample in the latent space by producing random normal variables and simply decoding.\n",
        "\n",
        "## Architecture\n",
        "\n",
        "The architecture of the VAE model is as follows:\n",
        "\n",
        "The encoder consists of:\n",
        "\n",
        "Encoder :\n",
        "- Flatten input\n",
        "- Dense layer $+$ ReLU\n",
        "- Dense layer $+$ ReLU\n",
        "- Dense layer (no non-linarity) to produce the average, Dense layer (no non-linarity) to produce the variance (these last two layers are in parallel)\n",
        "\n",
        "Decoder :\n",
        "- Dense layer $+$ ReLU\n",
        "- Dense layer $+$ ReLU\n",
        "- Dense layer $+$ Sigmoid Activation\n",
        "- Reshape, to size $28\\times 28\\times 1$\n",
        "\n",
        "\n",
        "## Variational Autoencoder loss\n",
        "\n",
        "Recall that for the VAE, the loss function is in fact a function to __maximise__. In fact, for implementation, you will see that it is easier to __minimise__ $-\\mathcal{L}$.\n",
        "\n",
        "In the case of an image which is represented by a set of __Bernoulli__ variables (which is relevant for mnist), the original loss function (to maximise) is written :\n",
        "\n",
        "\n",
        "\\begin{align}\n",
        "\\mathcal{L} &= \\log\\left(p_\\theta(x|z)\\right) - KL\\left( q_\\phi(z|x) \\; || \\; p_\\theta(z)\\right) \\\\\n",
        "    &= \\left(\\sum_{i} x_i \\log y_i + (1-x_i) \\log (1-y_i)\\right) - \\left(\\frac{1}{2} \\sum_j \\left( \\sigma_j^2 + \\mu_j^2 - \\log \\sigma_j^2 -1 \\right)\\right)\n",
        "\\end{align}\n",
        "\n",
        "\n",
        "where $i$ is summed over the image pixels, and $j$ is summed over the elements of the latent space. $\\sigma_j^2$ is the $j$th element of the latent space variance, and $\\mu_j$ is the $j$th element of the latent space mean.\n",
        "\n",
        "The left part of the loss (reconstruction error) can be implemented simply as the binary cross-entropy between the input x and the output y. Since we are __maximising__ $-$[binary cross-entropy] (look at the formula), this is equivalent to minimising the binary cross-entropy.\n",
        "\n",
        "For the right part of the equation (KL divergence), you need to implement it manually. \n",
        "\n",
        "The final loss is the average, over the batch size, of the sum of the reconstruction error (left part) and the KL divergence (right part). Be careful, in the formula, the sums over $i$ and $j$ are over the number of pixels and the number of latent elements, respectively. To achieve a sum rather than an average, you can use ```torch.nn.BCELoss(reduction='sum')()```, and the ```torch.sum()``` functions.\n",
        "\n",
        "As in the case of the normal autoencoder, you will need to flatten and then reshape the tensors at the beginning/end of the network."
      ]
    },
    {
      "cell_type": "code",
      "execution_count": 111,
      "metadata": {},
      "outputs": [],
      "source": [
        "class VAE(torch.nn.Module ):\n",
        "  def __init__(self, x_dim, h_dim1, h_dim2, z_dim,n_rows,n_cols,n_channels):\n",
        "    super(VAE, self).__init__()\n",
        "\n",
        "    self.n_rows = n_rows\n",
        "    self.n_cols = n_cols\n",
        "    self.n_channels = n_channels\n",
        "    self.n_pixels = (self.n_rows)*(self.n_cols)\n",
        "    self.z_dim = z_dim\n",
        "\n",
        "    # encoder part\n",
        "    self.fc1 = nn.Linear(self.n_pixels, h_dim1)\n",
        "    self.fc2 = nn.Linear(h_dim1, h_dim2)\n",
        "    self.fc31 = nn.Linear(h_dim2, z_dim)\n",
        "    self.fc32 = nn.Linear(h_dim2, z_dim)\n",
        "    # decoder part\n",
        "    self.fc4 = nn.Linear(z_dim, h_dim2)\n",
        "    self.fc5 = nn.Linear(h_dim2, h_dim1)\n",
        "    self.fc6 = nn.Linear(h_dim1, self.n_pixels)\n",
        "\n",
        "  def encoder(self, x):\n",
        "    h = F.relu(self.fc1(x))\n",
        "    h = F.relu(self.fc2(h))\n",
        "    return self.fc31(h), self.fc32(h)\n",
        "  \n",
        "  def decoder(self, z):\n",
        "    h = F.relu(self.fc4(z))\n",
        "    h = F.relu(self.fc5(h))\n",
        "    return torch.sigmoid(self.fc6(h)).view(-1, self.n_channels, self.n_rows, self.n_cols)\n",
        "\n",
        "  def sampling(self, mu, log_var):\n",
        "    # this function samples a Gaussian distribution, with average (mu) and standard deviation specified (using log_var)\n",
        "    std = torch.exp(log_var/2)\n",
        "    eps = torch.randn_like(std)\n",
        "    return eps.mul(std).add_(mu) # return z sample\n",
        "\n",
        "  def forward(self, x):\n",
        "    z_mu, z_log_var = self.encoder(x.view(-1, n_pixels))\n",
        "    z = self.sampling(z_mu, z_log_var)\n",
        "    return self.decoder(z),z_mu, z_log_var\n",
        "\n",
        "  def loss_function(self,x, y, mu, log_var):\n",
        "    reconstruction_error = torch.nn.BCELoss(reduction='sum')(y, x)\n",
        "    sigma2 = torch.exp(log_var)\n",
        "    KLD = 0.5 * torch.sum(sigma2 + mu**2 - log_var - 1)\n",
        "\n",
        "    return (reconstruction_error + KLD)"
      ]
    },
    {
      "cell_type": "markdown",
      "metadata": {
        "id": "hk_9fDIphlsi"
      },
      "source": [
        "Now, create the model (similarly as above)"
      ]
    },
    {
      "cell_type": "code",
      "execution_count": 112,
      "metadata": {
        "id": "pVlpC2R3htyU"
      },
      "outputs": [],
      "source": [
        "# create model\n",
        "vae_dim_1 = ae_dim_1\n",
        "vae_dim_2 = ae_dim_2\n",
        "vae_model = VAE(x_dim=n_pixels, h_dim1= vae_dim_1, h_dim2=vae_dim_2, z_dim=z_dim,n_rows=n_rows,n_cols=n_cols,n_channels=n_channels)\n",
        "vae_optimizer = optim.Adam(vae_model.parameters())"
      ]
    },
    {
      "cell_type": "markdown",
      "metadata": {
        "id": "NYKLF_oMh5HO"
      },
      "source": [
        "Finally, train the model. First modify the training function to the case of the vae."
      ]
    },
    {
      "cell_type": "code",
      "execution_count": 113,
      "metadata": {
        "id": "z6DjKTWmmssb"
      },
      "outputs": [],
      "source": [
        "def train_vae(vae_model,data_train_loader,epoch):\n",
        "  train_loss = 0\n",
        "  for batch_idx, (data, _) in enumerate(data_train_loader):\n",
        "    vae_optimizer.zero_grad()\n",
        "\n",
        "    y, z_mu, z_log_var = vae_model(data)\n",
        "    loss_vae = vae_model.loss_function(data, y, z_mu, z_log_var)\n",
        "    loss_vae.backward()\n",
        "    train_loss += loss_vae.item()\n",
        "    vae_optimizer.step() \n",
        "\t\t\n",
        "    if batch_idx % 100 == 0:\n",
        "      print('Train Epoch: {} [{}/{} ({:.0f}%)]\\tLoss: {:.6f}'.format(\n",
        "      epoch, batch_idx * len(data), len(data_train_loader.dataset),\n",
        "      100. * batch_idx / len(data_train_loader), loss_vae.item() / len(data)))\n",
        "  print('====> Epoch: {} Average loss: {:.4f}'.format(epoch, train_loss / len(data_train_loader.dataset)))\n"
      ]
    },
    {
      "cell_type": "code",
      "execution_count": 114,
      "metadata": {
        "id": "L9JUUs6Kh8HB"
      },
      "outputs": [
        {
          "name": "stdout",
          "output_type": "stream",
          "text": [
            "Train Epoch: 0 [0/1000 (0%)]\tLoss: 543.468689\n",
            "====> Epoch: 0 Average loss: 413.3834\n",
            "Train Epoch: 1 [0/1000 (0%)]\tLoss: 311.086914\n",
            "====> Epoch: 1 Average loss: 233.5281\n",
            "Train Epoch: 2 [0/1000 (0%)]\tLoss: 217.650436\n",
            "====> Epoch: 2 Average loss: 197.1143\n",
            "Train Epoch: 3 [0/1000 (0%)]\tLoss: 218.282623\n",
            "====> Epoch: 3 Average loss: 190.0381\n",
            "Train Epoch: 4 [0/1000 (0%)]\tLoss: 219.151703\n",
            "====> Epoch: 4 Average loss: 189.8704\n",
            "Train Epoch: 5 [0/1000 (0%)]\tLoss: 215.492294\n",
            "====> Epoch: 5 Average loss: 186.7088\n",
            "Train Epoch: 6 [0/1000 (0%)]\tLoss: 209.522034\n",
            "====> Epoch: 6 Average loss: 184.9738\n",
            "Train Epoch: 7 [0/1000 (0%)]\tLoss: 207.011032\n",
            "====> Epoch: 7 Average loss: 185.4966\n",
            "Train Epoch: 8 [0/1000 (0%)]\tLoss: 203.326950\n",
            "====> Epoch: 8 Average loss: 184.2621\n",
            "Train Epoch: 9 [0/1000 (0%)]\tLoss: 202.825592\n",
            "====> Epoch: 9 Average loss: 183.0962\n",
            "Train Epoch: 10 [0/1000 (0%)]\tLoss: 203.138214\n",
            "====> Epoch: 10 Average loss: 179.9924\n",
            "Train Epoch: 11 [0/1000 (0%)]\tLoss: 199.647751\n",
            "====> Epoch: 11 Average loss: 178.6086\n",
            "Train Epoch: 12 [0/1000 (0%)]\tLoss: 195.308228\n",
            "====> Epoch: 12 Average loss: 176.8724\n",
            "Train Epoch: 13 [0/1000 (0%)]\tLoss: 192.585083\n",
            "====> Epoch: 13 Average loss: 175.6549\n",
            "Train Epoch: 14 [0/1000 (0%)]\tLoss: 197.022690\n",
            "====> Epoch: 14 Average loss: 175.2240\n",
            "Train Epoch: 15 [0/1000 (0%)]\tLoss: 197.515045\n",
            "====> Epoch: 15 Average loss: 174.3611\n",
            "Train Epoch: 16 [0/1000 (0%)]\tLoss: 190.235519\n",
            "====> Epoch: 16 Average loss: 172.2862\n",
            "Train Epoch: 17 [0/1000 (0%)]\tLoss: 195.292313\n",
            "====> Epoch: 17 Average loss: 172.2595\n",
            "Train Epoch: 18 [0/1000 (0%)]\tLoss: 192.176300\n",
            "====> Epoch: 18 Average loss: 170.9627\n",
            "Train Epoch: 19 [0/1000 (0%)]\tLoss: 186.725067\n",
            "====> Epoch: 19 Average loss: 168.7519\n",
            "Train Epoch: 20 [0/1000 (0%)]\tLoss: 188.627457\n",
            "====> Epoch: 20 Average loss: 167.9961\n",
            "Train Epoch: 21 [0/1000 (0%)]\tLoss: 187.229309\n",
            "====> Epoch: 21 Average loss: 165.3733\n",
            "Train Epoch: 22 [0/1000 (0%)]\tLoss: 188.040543\n",
            "====> Epoch: 22 Average loss: 164.2948\n",
            "Train Epoch: 23 [0/1000 (0%)]\tLoss: 184.536667\n",
            "====> Epoch: 23 Average loss: 161.9930\n",
            "Train Epoch: 24 [0/1000 (0%)]\tLoss: 171.616287\n",
            "====> Epoch: 24 Average loss: 159.1609\n",
            "Train Epoch: 25 [0/1000 (0%)]\tLoss: 173.386780\n",
            "====> Epoch: 25 Average loss: 158.8663\n",
            "Train Epoch: 26 [0/1000 (0%)]\tLoss: 178.496094\n",
            "====> Epoch: 26 Average loss: 156.2133\n",
            "Train Epoch: 27 [0/1000 (0%)]\tLoss: 178.686447\n",
            "====> Epoch: 27 Average loss: 155.4973\n",
            "Train Epoch: 28 [0/1000 (0%)]\tLoss: 174.016571\n",
            "====> Epoch: 28 Average loss: 153.9548\n",
            "Train Epoch: 29 [0/1000 (0%)]\tLoss: 167.822113\n",
            "====> Epoch: 29 Average loss: 153.0741\n",
            "Train Epoch: 30 [0/1000 (0%)]\tLoss: 166.070312\n",
            "====> Epoch: 30 Average loss: 149.5340\n",
            "Train Epoch: 31 [0/1000 (0%)]\tLoss: 163.734268\n",
            "====> Epoch: 31 Average loss: 147.8524\n",
            "Train Epoch: 32 [0/1000 (0%)]\tLoss: 161.993195\n",
            "====> Epoch: 32 Average loss: 144.3179\n",
            "Train Epoch: 33 [0/1000 (0%)]\tLoss: 159.408020\n",
            "====> Epoch: 33 Average loss: 142.9723\n",
            "Train Epoch: 34 [0/1000 (0%)]\tLoss: 157.276855\n",
            "====> Epoch: 34 Average loss: 140.8942\n",
            "Train Epoch: 35 [0/1000 (0%)]\tLoss: 155.588852\n",
            "====> Epoch: 35 Average loss: 140.1941\n",
            "Train Epoch: 36 [0/1000 (0%)]\tLoss: 157.864349\n",
            "====> Epoch: 36 Average loss: 138.2347\n",
            "Train Epoch: 37 [0/1000 (0%)]\tLoss: 150.239349\n",
            "====> Epoch: 37 Average loss: 136.4311\n",
            "Train Epoch: 38 [0/1000 (0%)]\tLoss: 156.550522\n",
            "====> Epoch: 38 Average loss: 135.2368\n",
            "Train Epoch: 39 [0/1000 (0%)]\tLoss: 153.854187\n",
            "====> Epoch: 39 Average loss: 134.3289\n",
            "Train Epoch: 40 [0/1000 (0%)]\tLoss: 147.593094\n",
            "====> Epoch: 40 Average loss: 133.1733\n",
            "Train Epoch: 41 [0/1000 (0%)]\tLoss: 145.202286\n",
            "====> Epoch: 41 Average loss: 131.7579\n",
            "Train Epoch: 42 [0/1000 (0%)]\tLoss: 142.892746\n",
            "====> Epoch: 42 Average loss: 129.7895\n",
            "Train Epoch: 43 [0/1000 (0%)]\tLoss: 141.827713\n",
            "====> Epoch: 43 Average loss: 128.5244\n",
            "Train Epoch: 44 [0/1000 (0%)]\tLoss: 145.272018\n",
            "====> Epoch: 44 Average loss: 127.1512\n",
            "Train Epoch: 45 [0/1000 (0%)]\tLoss: 139.642212\n",
            "====> Epoch: 45 Average loss: 126.1477\n",
            "Train Epoch: 46 [0/1000 (0%)]\tLoss: 145.595840\n",
            "====> Epoch: 46 Average loss: 125.1476\n",
            "Train Epoch: 47 [0/1000 (0%)]\tLoss: 134.095886\n",
            "====> Epoch: 47 Average loss: 124.7666\n",
            "Train Epoch: 48 [0/1000 (0%)]\tLoss: 139.840820\n",
            "====> Epoch: 48 Average loss: 123.0737\n",
            "Train Epoch: 49 [0/1000 (0%)]\tLoss: 137.964355\n",
            "====> Epoch: 49 Average loss: 123.1337\n",
            "Train Epoch: 50 [0/1000 (0%)]\tLoss: 136.778702\n",
            "====> Epoch: 50 Average loss: 121.9897\n",
            "Train Epoch: 51 [0/1000 (0%)]\tLoss: 135.519958\n",
            "====> Epoch: 51 Average loss: 121.3511\n",
            "Train Epoch: 52 [0/1000 (0%)]\tLoss: 135.577927\n",
            "====> Epoch: 52 Average loss: 120.3860\n",
            "Train Epoch: 53 [0/1000 (0%)]\tLoss: 136.551147\n",
            "====> Epoch: 53 Average loss: 120.2290\n",
            "Train Epoch: 54 [0/1000 (0%)]\tLoss: 138.485611\n",
            "====> Epoch: 54 Average loss: 119.8616\n",
            "Train Epoch: 55 [0/1000 (0%)]\tLoss: 131.849899\n",
            "====> Epoch: 55 Average loss: 118.9982\n",
            "Train Epoch: 56 [0/1000 (0%)]\tLoss: 138.069458\n",
            "====> Epoch: 56 Average loss: 118.4518\n",
            "Train Epoch: 57 [0/1000 (0%)]\tLoss: 132.578400\n",
            "====> Epoch: 57 Average loss: 117.4248\n",
            "Train Epoch: 58 [0/1000 (0%)]\tLoss: 129.304932\n",
            "====> Epoch: 58 Average loss: 117.1011\n",
            "Train Epoch: 59 [0/1000 (0%)]\tLoss: 130.228134\n",
            "====> Epoch: 59 Average loss: 115.9249\n",
            "Train Epoch: 60 [0/1000 (0%)]\tLoss: 130.010727\n",
            "====> Epoch: 60 Average loss: 115.6691\n",
            "Train Epoch: 61 [0/1000 (0%)]\tLoss: 125.841202\n",
            "====> Epoch: 61 Average loss: 114.4038\n",
            "Train Epoch: 62 [0/1000 (0%)]\tLoss: 126.248558\n",
            "====> Epoch: 62 Average loss: 114.7427\n",
            "Train Epoch: 63 [0/1000 (0%)]\tLoss: 128.036835\n",
            "====> Epoch: 63 Average loss: 113.8283\n",
            "Train Epoch: 64 [0/1000 (0%)]\tLoss: 119.725807\n",
            "====> Epoch: 64 Average loss: 112.8010\n",
            "Train Epoch: 65 [0/1000 (0%)]\tLoss: 123.477448\n",
            "====> Epoch: 65 Average loss: 112.6483\n",
            "Train Epoch: 66 [0/1000 (0%)]\tLoss: 123.975052\n",
            "====> Epoch: 66 Average loss: 112.6231\n",
            "Train Epoch: 67 [0/1000 (0%)]\tLoss: 121.476456\n",
            "====> Epoch: 67 Average loss: 112.0933\n",
            "Train Epoch: 68 [0/1000 (0%)]\tLoss: 122.523148\n",
            "====> Epoch: 68 Average loss: 111.6660\n",
            "Train Epoch: 69 [0/1000 (0%)]\tLoss: 127.867767\n",
            "====> Epoch: 69 Average loss: 111.1867\n",
            "Train Epoch: 70 [0/1000 (0%)]\tLoss: 127.807739\n",
            "====> Epoch: 70 Average loss: 110.2978\n",
            "Train Epoch: 71 [0/1000 (0%)]\tLoss: 118.990898\n",
            "====> Epoch: 71 Average loss: 110.1753\n",
            "Train Epoch: 72 [0/1000 (0%)]\tLoss: 120.247452\n",
            "====> Epoch: 72 Average loss: 109.8960\n",
            "Train Epoch: 73 [0/1000 (0%)]\tLoss: 120.289902\n",
            "====> Epoch: 73 Average loss: 108.4257\n",
            "Train Epoch: 74 [0/1000 (0%)]\tLoss: 124.497749\n",
            "====> Epoch: 74 Average loss: 108.9642\n",
            "Train Epoch: 75 [0/1000 (0%)]\tLoss: 118.502403\n",
            "====> Epoch: 75 Average loss: 108.5912\n",
            "Train Epoch: 76 [0/1000 (0%)]\tLoss: 116.175606\n",
            "====> Epoch: 76 Average loss: 107.7200\n",
            "Train Epoch: 77 [0/1000 (0%)]\tLoss: 117.988480\n",
            "====> Epoch: 77 Average loss: 107.8188\n",
            "Train Epoch: 78 [0/1000 (0%)]\tLoss: 118.805237\n",
            "====> Epoch: 78 Average loss: 107.6822\n",
            "Train Epoch: 79 [0/1000 (0%)]\tLoss: 116.341263\n",
            "====> Epoch: 79 Average loss: 107.2968\n",
            "Train Epoch: 80 [0/1000 (0%)]\tLoss: 116.824890\n",
            "====> Epoch: 80 Average loss: 106.0407\n",
            "Train Epoch: 81 [0/1000 (0%)]\tLoss: 119.809479\n",
            "====> Epoch: 81 Average loss: 105.9261\n",
            "Train Epoch: 82 [0/1000 (0%)]\tLoss: 111.089050\n",
            "====> Epoch: 82 Average loss: 105.4288\n",
            "Train Epoch: 83 [0/1000 (0%)]\tLoss: 118.035355\n",
            "====> Epoch: 83 Average loss: 105.4416\n",
            "Train Epoch: 84 [0/1000 (0%)]\tLoss: 118.142090\n",
            "====> Epoch: 84 Average loss: 105.7488\n",
            "Train Epoch: 85 [0/1000 (0%)]\tLoss: 118.912857\n",
            "====> Epoch: 85 Average loss: 105.2451\n",
            "Train Epoch: 86 [0/1000 (0%)]\tLoss: 118.232597\n",
            "====> Epoch: 86 Average loss: 104.0280\n",
            "Train Epoch: 87 [0/1000 (0%)]\tLoss: 114.452591\n",
            "====> Epoch: 87 Average loss: 103.9767\n",
            "Train Epoch: 88 [0/1000 (0%)]\tLoss: 114.710884\n",
            "====> Epoch: 88 Average loss: 103.3341\n",
            "Train Epoch: 89 [0/1000 (0%)]\tLoss: 113.602264\n",
            "====> Epoch: 89 Average loss: 103.8946\n",
            "Train Epoch: 90 [0/1000 (0%)]\tLoss: 113.897232\n",
            "====> Epoch: 90 Average loss: 103.6034\n",
            "Train Epoch: 91 [0/1000 (0%)]\tLoss: 114.773636\n",
            "====> Epoch: 91 Average loss: 103.4483\n",
            "Train Epoch: 92 [0/1000 (0%)]\tLoss: 111.974609\n",
            "====> Epoch: 92 Average loss: 102.4143\n",
            "Train Epoch: 93 [0/1000 (0%)]\tLoss: 109.792084\n",
            "====> Epoch: 93 Average loss: 102.5101\n",
            "Train Epoch: 94 [0/1000 (0%)]\tLoss: 115.657547\n",
            "====> Epoch: 94 Average loss: 102.4346\n",
            "Train Epoch: 95 [0/1000 (0%)]\tLoss: 118.265083\n",
            "====> Epoch: 95 Average loss: 102.2580\n",
            "Train Epoch: 96 [0/1000 (0%)]\tLoss: 116.005066\n",
            "====> Epoch: 96 Average loss: 102.0651\n",
            "Train Epoch: 97 [0/1000 (0%)]\tLoss: 111.639687\n",
            "====> Epoch: 97 Average loss: 101.1746\n",
            "Train Epoch: 98 [0/1000 (0%)]\tLoss: 112.147385\n",
            "====> Epoch: 98 Average loss: 101.4923\n",
            "Train Epoch: 99 [0/1000 (0%)]\tLoss: 114.490234\n",
            "====> Epoch: 99 Average loss: 100.8509\n",
            "Train Epoch: 100 [0/1000 (0%)]\tLoss: 113.278900\n",
            "====> Epoch: 100 Average loss: 100.7828\n",
            "Train Epoch: 101 [0/1000 (0%)]\tLoss: 113.463928\n",
            "====> Epoch: 101 Average loss: 100.5552\n",
            "Train Epoch: 102 [0/1000 (0%)]\tLoss: 114.066940\n",
            "====> Epoch: 102 Average loss: 100.5605\n",
            "Train Epoch: 103 [0/1000 (0%)]\tLoss: 109.070686\n",
            "====> Epoch: 103 Average loss: 100.2047\n",
            "Train Epoch: 104 [0/1000 (0%)]\tLoss: 112.905914\n",
            "====> Epoch: 104 Average loss: 99.8819\n",
            "Train Epoch: 105 [0/1000 (0%)]\tLoss: 112.453323\n",
            "====> Epoch: 105 Average loss: 99.9049\n",
            "Train Epoch: 106 [0/1000 (0%)]\tLoss: 110.698494\n",
            "====> Epoch: 106 Average loss: 99.8800\n",
            "Train Epoch: 107 [0/1000 (0%)]\tLoss: 109.629967\n",
            "====> Epoch: 107 Average loss: 99.4672\n",
            "Train Epoch: 108 [0/1000 (0%)]\tLoss: 107.873016\n",
            "====> Epoch: 108 Average loss: 99.1970\n",
            "Train Epoch: 109 [0/1000 (0%)]\tLoss: 107.929054\n",
            "====> Epoch: 109 Average loss: 98.9963\n",
            "Train Epoch: 110 [0/1000 (0%)]\tLoss: 111.835907\n",
            "====> Epoch: 110 Average loss: 99.1286\n",
            "Train Epoch: 111 [0/1000 (0%)]\tLoss: 108.976196\n",
            "====> Epoch: 111 Average loss: 98.5714\n",
            "Train Epoch: 112 [0/1000 (0%)]\tLoss: 108.899124\n",
            "====> Epoch: 112 Average loss: 98.4730\n",
            "Train Epoch: 113 [0/1000 (0%)]\tLoss: 107.554901\n",
            "====> Epoch: 113 Average loss: 98.1061\n",
            "Train Epoch: 114 [0/1000 (0%)]\tLoss: 108.409332\n",
            "====> Epoch: 114 Average loss: 98.0540\n",
            "Train Epoch: 115 [0/1000 (0%)]\tLoss: 110.375450\n",
            "====> Epoch: 115 Average loss: 97.9502\n",
            "Train Epoch: 116 [0/1000 (0%)]\tLoss: 106.633728\n",
            "====> Epoch: 116 Average loss: 97.9997\n",
            "Train Epoch: 117 [0/1000 (0%)]\tLoss: 108.464775\n",
            "====> Epoch: 117 Average loss: 97.4237\n",
            "Train Epoch: 118 [0/1000 (0%)]\tLoss: 107.094513\n",
            "====> Epoch: 118 Average loss: 97.4359\n",
            "Train Epoch: 119 [0/1000 (0%)]\tLoss: 106.450081\n",
            "====> Epoch: 119 Average loss: 97.0487\n",
            "Train Epoch: 120 [0/1000 (0%)]\tLoss: 106.538216\n",
            "====> Epoch: 120 Average loss: 96.8719\n",
            "Train Epoch: 121 [0/1000 (0%)]\tLoss: 104.710587\n",
            "====> Epoch: 121 Average loss: 96.6034\n",
            "Train Epoch: 122 [0/1000 (0%)]\tLoss: 106.510239\n",
            "====> Epoch: 122 Average loss: 96.4431\n",
            "Train Epoch: 123 [0/1000 (0%)]\tLoss: 103.034744\n",
            "====> Epoch: 123 Average loss: 96.7186\n",
            "Train Epoch: 124 [0/1000 (0%)]\tLoss: 106.468796\n",
            "====> Epoch: 124 Average loss: 96.1523\n",
            "Train Epoch: 125 [0/1000 (0%)]\tLoss: 104.720718\n",
            "====> Epoch: 125 Average loss: 95.8890\n",
            "Train Epoch: 126 [0/1000 (0%)]\tLoss: 108.379517\n",
            "====> Epoch: 126 Average loss: 95.5536\n",
            "Train Epoch: 127 [0/1000 (0%)]\tLoss: 108.073662\n",
            "====> Epoch: 127 Average loss: 95.8144\n",
            "Train Epoch: 128 [0/1000 (0%)]\tLoss: 106.071915\n",
            "====> Epoch: 128 Average loss: 95.6478\n",
            "Train Epoch: 129 [0/1000 (0%)]\tLoss: 104.794769\n",
            "====> Epoch: 129 Average loss: 95.6785\n",
            "Train Epoch: 130 [0/1000 (0%)]\tLoss: 101.865700\n",
            "====> Epoch: 130 Average loss: 95.3151\n",
            "Train Epoch: 131 [0/1000 (0%)]\tLoss: 107.961243\n",
            "====> Epoch: 131 Average loss: 95.0874\n",
            "Train Epoch: 132 [0/1000 (0%)]\tLoss: 106.255310\n",
            "====> Epoch: 132 Average loss: 95.1134\n",
            "Train Epoch: 133 [0/1000 (0%)]\tLoss: 102.898315\n",
            "====> Epoch: 133 Average loss: 94.4494\n",
            "Train Epoch: 134 [0/1000 (0%)]\tLoss: 100.450150\n",
            "====> Epoch: 134 Average loss: 94.2848\n",
            "Train Epoch: 135 [0/1000 (0%)]\tLoss: 106.984833\n",
            "====> Epoch: 135 Average loss: 94.7286\n",
            "Train Epoch: 136 [0/1000 (0%)]\tLoss: 107.218491\n",
            "====> Epoch: 136 Average loss: 93.8957\n",
            "Train Epoch: 137 [0/1000 (0%)]\tLoss: 107.054535\n",
            "====> Epoch: 137 Average loss: 94.8143\n",
            "Train Epoch: 138 [0/1000 (0%)]\tLoss: 103.550827\n",
            "====> Epoch: 138 Average loss: 93.9090\n",
            "Train Epoch: 139 [0/1000 (0%)]\tLoss: 104.231155\n",
            "====> Epoch: 139 Average loss: 93.8620\n",
            "Train Epoch: 140 [0/1000 (0%)]\tLoss: 104.432007\n",
            "====> Epoch: 140 Average loss: 93.3806\n",
            "Train Epoch: 141 [0/1000 (0%)]\tLoss: 107.340195\n",
            "====> Epoch: 141 Average loss: 94.0424\n",
            "Train Epoch: 142 [0/1000 (0%)]\tLoss: 99.245605\n",
            "====> Epoch: 142 Average loss: 93.2511\n",
            "Train Epoch: 143 [0/1000 (0%)]\tLoss: 105.667198\n",
            "====> Epoch: 143 Average loss: 93.7460\n",
            "Train Epoch: 144 [0/1000 (0%)]\tLoss: 106.807724\n",
            "====> Epoch: 144 Average loss: 93.2395\n",
            "Train Epoch: 145 [0/1000 (0%)]\tLoss: 107.557892\n",
            "====> Epoch: 145 Average loss: 92.7080\n",
            "Train Epoch: 146 [0/1000 (0%)]\tLoss: 103.167755\n",
            "====> Epoch: 146 Average loss: 93.0051\n",
            "Train Epoch: 147 [0/1000 (0%)]\tLoss: 99.386810\n",
            "====> Epoch: 147 Average loss: 93.2187\n",
            "Train Epoch: 148 [0/1000 (0%)]\tLoss: 100.139633\n",
            "====> Epoch: 148 Average loss: 92.6159\n",
            "Train Epoch: 149 [0/1000 (0%)]\tLoss: 101.581726\n",
            "====> Epoch: 149 Average loss: 92.2585\n"
          ]
        }
      ],
      "source": [
        "# now train the model\n",
        "for epoch in range(0, n_epochs):\n",
        "  train_vae(vae_model,mnist_train_loader,epoch)"
      ]
    },
    {
      "cell_type": "markdown",
      "metadata": {
        "id": "uTfRje_AkKDr"
      },
      "source": [
        "Now, generate some images with the VAE model"
      ]
    },
    {
      "cell_type": "code",
      "execution_count": 115,
      "metadata": {
        "id": "41tXdNsFkKk5"
      },
      "outputs": [
        {
          "data": {
            "image/png": "[encoded data removed]",
            "text/plain": [
              "<Figure size 640x480 with 5 Axes>"
            ]
          },
          "metadata": {},
          "output_type": "display_data"
        }
      ],
      "source": [
        "def generate_images_vae(vae_model,n_images = 5):\n",
        "\n",
        "  epsilon = torch.randn(n_images,vae_model.z_dim)\n",
        "  imgs_generated = vae_model.decoder(epsilon)\n",
        "  return(imgs_generated)\n",
        "\n",
        "imgs_generated = generate_images_vae(vae_model,n_images=5).view(-1, n_channels, n_rows, n_cols)\n",
        "display_images(imgs_generated)"
      ]
    },
    {
      "cell_type": "markdown",
      "metadata": {
        "id": "lGnvKoynzaFN"
      },
      "source": [
        "Do you think the results are better ? What difference can you see ? What advantage does the Variational Autoencoder have over the simple autoencoder model, even though the second autoencoder approach has a more complex probabilistic latent model (a full covariance matrix) ?"
      ]
    },
    {
      "attachments": {},
      "cell_type": "markdown",
      "metadata": {
        "id": "uuYn3_PBzjkI"
      },
      "source": [
        "__Answer__\n",
        "\n",
        "The results are not really better, the numbers are more blurry. But the VAE has the advantage of being able to generate images by sampling in the latent space, which is not possible with the simple autoencoder.  "
      ]
    },
    {
      "cell_type": "markdown",
      "metadata": {
        "id": "uXm-D9Ef9vYm"
      },
      "source": [
        "We will now compare the models quantitavely."
      ]
    },
    {
      "cell_type": "markdown",
      "metadata": {
        "id": "04MddkzuE324"
      },
      "source": [
        "# 3 Evaluating and comparing the models\n",
        "\n",
        "We will evaluate the models, in the following manner:\n",
        "\n",
        "- we train a simple convolutional neural network classifier on mnist, to a good accuracy\n",
        "- we generate images with each model\n",
        "- we find the average of the highest probability of the images according to the classifier, for each model. If this value is high, it means that on average the classifier considers that the images look like a \n",
        "\n",
        "We will use the following convoluional architecture for the classifier:\n",
        "\n",
        "- conv2d, filter size  3×3 , 32 filters, stride=(2,2), padding=\"SAME\"\n",
        "- ReLU\n",
        "- conv2d, filter size  3×3 , 32 filters, stride=(2,2), padding=\"SAME\"\n",
        "- ReLU\n",
        "- MaxPool2D, stride=(2,2)\n",
        "- Flatten\n",
        "- Dense layer\n",
        "\n",
        "Now, define the model. To make things easier, use the ```torch.nn.Sequential``` API (there is no need for a Class in this simple case)."
      ]
    },
    {
      "cell_type": "code",
      "execution_count": 116,
      "metadata": {
        "id": "P87a-DkXFOCv"
      },
      "outputs": [],
      "source": [
        "learning_rate = 0.01\n",
        "n_epochs = 20\n",
        "batch_size = 64\n",
        "nb_classes = int(mnist_trainset.targets.max()+1)\n",
        "\n",
        "# number of convolutional filters to use\n",
        "nb_filters = 32\n",
        "# convolution kernel size\n",
        "kernel_size = (3, 3)\n",
        "# size of pooling area for max pooling\n",
        "pool_size = (2, 2)\n",
        "\n",
        "# --- Size of the successive layers\n",
        "n_h_0 = 1 #greyscale input images\n",
        "n_h_1 = nb_filters\n",
        "n_h_2 = nb_filters\n",
        "\n",
        "mnist_classification_model = torch.nn.Sequential(\n",
        "    torch.nn.Conv2d(n_h_0, n_h_1, kernel_size=kernel_size, padding=\"same\"),\n",
        "    torch.nn.ReLU(),\n",
        "    torch.nn.Conv2d(n_h_1, n_h_2, kernel_size=kernel_size, padding=\"same\"),\n",
        "    torch.nn.ReLU(),\n",
        "    torch.nn.MaxPool2d(kernel_size=pool_size, stride=(2, 2)),\n",
        "    torch.nn.Flatten(),\n",
        "    torch.nn.Linear(784*8, nb_classes)\n",
        ")\n",
        "\n",
        "criterion = nn.CrossEntropyLoss()\n",
        "optimizer = torch.optim.Adam(mnist_classification_model.parameters(), lr=learning_rate)"
      ]
    },
    {
      "cell_type": "markdown",
      "metadata": {
        "id": "_sUZONxw2bnt"
      },
      "source": [
        "Create a function to calculate accuracy, instead of loss"
      ]
    },
    {
      "cell_type": "code",
      "execution_count": 117,
      "metadata": {
        "id": "aOww0ydr2fT0"
      },
      "outputs": [],
      "source": [
        "def get_accuracy(x_pred,x_label):\n",
        "  acc = torch.sum(x_pred == x_label)/(x_pred.shape[0])\n",
        "  return acc"
      ]
    },
    {
      "cell_type": "markdown",
      "metadata": {
        "id": "qw0vkZIqFcse"
      },
      "source": [
        "Now, train the model. You should be able to achieve an accuracy close to 1.00 within 20 epochs"
      ]
    },
    {
      "cell_type": "code",
      "execution_count": 118,
      "metadata": {
        "id": "0FA8YoX2FcHP"
      },
      "outputs": [
        {
          "name": "stdout",
          "output_type": "stream",
          "text": [
            "Epoch:0 Train Loss:0.0154 Accuracy:0.5234\n",
            "Epoch:1 Train Loss:0.0051 Accuracy:0.8516\n",
            "Epoch:2 Train Loss:0.0021 Accuracy:0.9062\n",
            "Epoch:3 Train Loss:0.0024 Accuracy:0.8906\n",
            "Epoch:4 Train Loss:0.0013 Accuracy:0.9297\n",
            "Epoch:5 Train Loss:0.0003 Accuracy:0.9844\n",
            "Epoch:6 Train Loss:0.0002 Accuracy:0.9922\n",
            "Epoch:7 Train Loss:0.0004 Accuracy:0.9844\n",
            "Epoch:8 Train Loss:0.0003 Accuracy:0.9922\n",
            "Epoch:9 Train Loss:0.0000 Accuracy:1.0000\n",
            "Epoch:10 Train Loss:0.0000 Accuracy:1.0000\n",
            "Epoch:11 Train Loss:0.0000 Accuracy:1.0000\n",
            "Epoch:12 Train Loss:0.0000 Accuracy:1.0000\n",
            "Epoch:13 Train Loss:0.0000 Accuracy:1.0000\n",
            "Epoch:14 Train Loss:0.0000 Accuracy:1.0000\n",
            "Epoch:15 Train Loss:0.0000 Accuracy:1.0000\n",
            "Epoch:16 Train Loss:0.0000 Accuracy:1.0000\n",
            "Epoch:17 Train Loss:0.0000 Accuracy:1.0000\n",
            "Epoch:18 Train Loss:0.0000 Accuracy:1.0000\n",
            "Epoch:19 Train Loss:0.0000 Accuracy:1.0000\n"
          ]
        }
      ],
      "source": [
        "train_losses=[]\n",
        "valid_losses=[]\n",
        "\n",
        "for epoch in range(0,n_epochs):\n",
        "  train_loss=0.0\n",
        "\n",
        "  for batch_idx, (imgs, labels) in enumerate(mnist_train_loader):\n",
        "\n",
        "    # set the gradients back to 0\n",
        "    optimizer.zero_grad()\n",
        "    predict=mnist_classification_model(imgs)\n",
        "    # apply loss function\n",
        "    loss=criterion(predict,labels)\n",
        "    acc = get_accuracy(torch.argmax(predict,dim=1),labels)\n",
        "    # backpropagation\n",
        "    loss.backward()\n",
        "    optimizer.step()\n",
        "    train_loss=loss.item()\n",
        "  print('Epoch:{} Train Loss:{:.4f} Accuracy:{:.4f}'.format(epoch,train_loss/imgs.shape[0],acc))"
      ]
    },
    {
      "cell_type": "markdown",
      "metadata": {
        "id": "zFgN5LblFwTa"
      },
      "source": [
        "### Evaluate the average maximum prediction of the images generated by each generative model (higher is better)\n",
        "\n",
        "Now, we will evaluate the models. For each ones, produce a certain number of images, and put those images through the classification network. Then find the maximum class probability of each image, and average it over all the images. We will use this as a metric to evaluate each model.\n",
        "\n",
        "__CAREFUL__: the output of the network does __not__ include the Softmax layer, so you will have to carry it out, with:\n",
        "- ```torch.nn.Softmax()(...)```\n",
        "\n",
        "Define this metric now:"
      ]
    },
    {
      "cell_type": "code",
      "execution_count": 119,
      "metadata": {
        "id": "lCJ_0qqjOXHT"
      },
      "outputs": [],
      "source": [
        "def generative_model_score(imgs_in,classification_model):\n",
        "    \n",
        "    imgs_in = imgs_in.view(-1, n_channels, n_rows, n_cols)\n",
        "    # Pass the generated images through the classification model\n",
        "    with torch.no_grad():\n",
        "        logits = classification_model(imgs_in)\n",
        "    \n",
        "    # Apply Softmax to the logits to obtain class probabilities\n",
        "    probabilities = nn.Softmax(dim=1)(logits)\n",
        "    \n",
        "    # Compute the maximum class probability for each generated image\n",
        "    max_probabilities, _ = probabilities.max(dim=1)\n",
        "    \n",
        "    # Compute the average of the maximum probabilities\n",
        "    gen_score = max_probabilities.mean().item()\n",
        "    \n",
        "    return gen_score"
      ]
    },
    {
      "cell_type": "markdown",
      "metadata": {
        "id": "yGq7YFg51UoP"
      },
      "source": [
        "Now, generate some images with each of the three models, and evaluate these models:"
      ]
    },
    {
      "cell_type": "code",
      "execution_count": 120,
      "metadata": {
        "id": "4-L4u2jhILFx"
      },
      "outputs": [
        {
          "name": "stdout",
          "output_type": "stream",
          "text": [
            "Diagonal gaussian generative model score :  0.8969280123710632\n",
            "Non diagonal gaussian generative model score :  0.8848448991775513\n",
            "Variational autoencoder model score:  0.8858203291893005\n"
          ]
        }
      ],
      "source": [
        "imgs_diagonal_gaussian = generate_images_diagonal_gaussian(ae_model,z_average,z_sigma,n_images = 50)\n",
        "imgs_non_diagonal_gaussian = generate_images_non_diagonal_gaussian(ae_model,z_average,z_covariance,n_images = 50)\n",
        "imgs_vae = generate_images_vae(vae_model,n_images=50)\n",
        "\n",
        "# average of maximum of first model \n",
        "diagonal_gaussian_score = float(generative_model_score(imgs_diagonal_gaussian,mnist_classification_model))\n",
        "non_diagonal_gaussian_score = float(generative_model_score(imgs_non_diagonal_gaussian,mnist_classification_model))\n",
        "vae_gaussian_score = float(generative_model_score(imgs_vae,mnist_classification_model))\n",
        "\n",
        "print(\"Diagonal gaussian generative model score : \",diagonal_gaussian_score)\n",
        "print(\"Non diagonal gaussian generative model score : \",non_diagonal_gaussian_score)\n",
        "print(\"Variational autoencoder model score: \",vae_gaussian_score) "
      ]
    },
    {
      "attachments": {},
      "cell_type": "markdown",
      "metadata": {
        "id": "sxvsG8FC1gNS"
      },
      "source": [
        "Please answer the following questions:\n",
        "\n",
        "- Which model is better quantitatively ?  \n",
        "- Do the quantitative result support the qualitative results ?  \n",
        "- Can you see any drawbacks of this method of evaluation ? \n",
        "- Can you propose any more sophisticated models than the multivariate Gaussian approach (apart from the variational autoencoder) ?  \n"
      ]
    },
    {
      "attachments": {},
      "cell_type": "markdown",
      "metadata": {
        "id": "3SYCyfKR3G7Y"
      },
      "source": [
        "__Answer__\n",
        "- It's the Diagonal gaussian generative model, because it has the highest average maximum prediction\n",
        "- Yes, the quantitative results support the qualitative results, because the VAE is better than the simple autoencoder.\n",
        "- We are using the max of the probabilities, but we ignore the other probabilities. So if the model is not confident in its prediction, it will still get a good score if the right class is the max.\n",
        "- We could use a generative adversarial network (GAN)."
      ]
    }
  ],
  "metadata": {
    "accelerator": "GPU",
    "colab": {
      "provenance": []
    },
    "kernelspec": {
      "display_name": "Python 3",
      "name": "python3"
    },
    "language_info": {
      "codemirror_mode": {
        "name": "ipython",
        "version": 3
      },
      "file_extension": ".py",
      "mimetype": "text/x-python",
      "name": "python",
      "nbconvert_exporter": "python",
      "pygments_lexer": "ipython3",
      "version": "3.11.3"
    }
  },
  "nbformat": 4,
  "nbformat_minor": 0
}
